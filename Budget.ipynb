{
 "cells": [
  {
   "cell_type": "code",
   "execution_count": 1,
   "metadata": {},
   "outputs": [],
   "source": [
    "import pandas as pd\r\n",
    "import matplotlib.pyplot as plt\r\n",
    "import seaborn as sns\r\n",
    "import numpy as np"
   ]
  },
  {
   "cell_type": "code",
   "execution_count": 2,
   "metadata": {},
   "outputs": [
    {
     "data": {
      "text/html": [
       "<div>\n",
       "<style scoped>\n",
       "    .dataframe tbody tr th:only-of-type {\n",
       "        vertical-align: middle;\n",
       "    }\n",
       "\n",
       "    .dataframe tbody tr th {\n",
       "        vertical-align: top;\n",
       "    }\n",
       "\n",
       "    .dataframe thead th {\n",
       "        text-align: right;\n",
       "    }\n",
       "</style>\n",
       "<table border=\"1\" class=\"dataframe\">\n",
       "  <thead>\n",
       "    <tr style=\"text-align: right;\">\n",
       "      <th></th>\n",
       "      <th>Department /Ministry</th>\n",
       "      <th>Fund allotted(in ₹crores)</th>\n",
       "    </tr>\n",
       "  </thead>\n",
       "  <tbody>\n",
       "    <tr>\n",
       "      <th>0</th>\n",
       "      <td>MINISTRY OF AGRICULTURE</td>\n",
       "      <td>131531.19</td>\n",
       "    </tr>\n",
       "    <tr>\n",
       "      <th>1</th>\n",
       "      <td>DEPARTMENT OF ATOMIC ENERGY</td>\n",
       "      <td>18264.89</td>\n",
       "    </tr>\n",
       "    <tr>\n",
       "      <th>2</th>\n",
       "      <td>MINISTRY OF AYURVEDA, YOGA</td>\n",
       "      <td>2970.30</td>\n",
       "    </tr>\n",
       "    <tr>\n",
       "      <th>3</th>\n",
       "      <td>MINISTRY OF CHEMICALS AND FERTILISER</td>\n",
       "      <td>80714.94</td>\n",
       "    </tr>\n",
       "    <tr>\n",
       "      <th>4</th>\n",
       "      <td>MINISTRY OF CIVIL AVIATION</td>\n",
       "      <td>3224.67</td>\n",
       "    </tr>\n",
       "  </tbody>\n",
       "</table>\n",
       "</div>"
      ],
      "text/plain": [
       "                   Department /Ministry  Fund allotted(in ₹crores)\n",
       "0               MINISTRY OF AGRICULTURE                  131531.19\n",
       "1           DEPARTMENT OF ATOMIC ENERGY                   18264.89\n",
       "2            MINISTRY OF AYURVEDA, YOGA                    2970.30\n",
       "3  MINISTRY OF CHEMICALS AND FERTILISER                   80714.94\n",
       "4            MINISTRY OF CIVIL AVIATION                    3224.67"
      ]
     },
     "execution_count": 2,
     "metadata": {},
     "output_type": "execute_result"
    }
   ],
   "source": [
    "# data = pd.read_csv(r\"https://raw.githubusercontent.com/amankharwal/Website-data/master/India_budget_2021.csv\",index_col=\"Department /Ministry\")\r\n",
    "# data.to_csv(\"Financial Budget.csv\")\r\n",
    "\r\n",
    "data = pd.read_csv(r\"D:\\PFP\\Projects\\Financial Analysis\\Financial Budget.csv\")\r\n",
    "data.head()\r\n"
   ]
  },
  {
   "cell_type": "code",
   "execution_count": 3,
   "metadata": {},
   "outputs": [
    {
     "data": {
      "text/plain": [
       "Department /Ministry         1\n",
       "Fund allotted(in ₹crores)    1\n",
       "dtype: int64"
      ]
     },
     "execution_count": 3,
     "metadata": {},
     "output_type": "execute_result"
    }
   ],
   "source": [
    "data.isnull().sum()"
   ]
  },
  {
   "cell_type": "code",
   "execution_count": 4,
   "metadata": {},
   "outputs": [],
   "source": [
    "data.dropna(inplace=True)"
   ]
  },
  {
   "cell_type": "code",
   "execution_count": 5,
   "metadata": {},
   "outputs": [
    {
     "data": {
      "text/plain": [
       "Department /Ministry         0\n",
       "Fund allotted(in ₹crores)    0\n",
       "dtype: int64"
      ]
     },
     "execution_count": 5,
     "metadata": {},
     "output_type": "execute_result"
    }
   ],
   "source": [
    "data.isnull().sum()\r\n"
   ]
  },
  {
   "cell_type": "code",
   "execution_count": 6,
   "metadata": {},
   "outputs": [
    {
     "name": "stdout",
     "output_type": "stream",
     "text": [
      "                                 Department /Ministry  \\\n",
      "0                             MINISTRY OF AGRICULTURE   \n",
      "1                         DEPARTMENT OF ATOMIC ENERGY   \n",
      "2                          MINISTRY OF AYURVEDA, YOGA   \n",
      "3                MINISTRY OF CHEMICALS AND FERTILISER   \n",
      "4                          MINISTRY OF CIVIL AVIATION   \n",
      "5                                    MINISTRY OF COAL   \n",
      "6                   MINISTRY OF COMMERCE AND INDUSTRY   \n",
      "7                           MINISTRY OF COMMUNICATION   \n",
      "8                        MINISTRY OF CONSUMER AFFAIRS   \n",
      "9                       MINISTRY OF CORPORATE AFFAIRS   \n",
      "10                                MINISTRY OF CULTURE   \n",
      "11                                MINISTRY OF DEFENCE   \n",
      "12    MINISTRY OF DEVELOPMENT OF NORTH EASTERN REGION   \n",
      "13                         MINISTRY OF EARTH SCIENCES   \n",
      "14                              MINISTRY OF EDUCATION   \n",
      "15  MINISTRY OF ELECTRONICS AND INFORMATION TECHNO...   \n",
      "16                    MINISTRY OF ENVIRONMENT, FOREST   \n",
      "17                       MINISTRY OF EXTERNAL AFFAIRS   \n",
      "18                                MINISTRY OF FINANCE   \n",
      "19            MINISTRY OF FISHERIES, ANIMAL HUSBANDRY   \n",
      "20             MINISTRY OF FOOD PROCESSING INDUSTRIES   \n",
      "21              MINISTRY OF HEALTH AND FAMILY WELFARE   \n",
      "22                       MINISTRY OF HEAVY INDUSTRIES   \n",
      "23                           MINISTRY OF HOME AFFAIRS   \n",
      "24              MINISTRY OF HOUSING AND URBAN AFFAIRS   \n",
      "25           MINISTRY OF INFORMATION AND BROADCASTING   \n",
      "26                             MINISTRY OF JAL SHAKTI   \n",
      "27                  MINISTRY OF LABOUR AND EMPLOYMENT   \n",
      "28                        MINISTRY OF LAW AND JUSTICE   \n",
      "29    MINISTRY OF MICRO, SMALL AND MEDIUM ENTERPRISES   \n",
      "30                                  MINISTRY OF MINES   \n",
      "31                        MINISTRY OF MINORITY AFFAIR   \n",
      "32               MINISTRY OF NEW AND RENEWABLE ENERGY   \n",
      "33                         MINISTRY OF PANCHAYATI RAJ   \n",
      "34                  MINISTRY OF PARLIAMENTARY AFFAIRS   \n",
      "35           MINISTRY OF PERSONNEL, PUBLIC GRIEVANCES   \n",
      "36              MINISTRY OF PETROLEUM AND NATURAL GAS   \n",
      "37                               MINISTRY OF PLANNING   \n",
      "38                        MINISTRY OF PORTS, SHIPPING   \n",
      "39                                  MINISTRY OF POWER   \n",
      "40  THE PRESIDENT, PARLIAMENT, UNION PUBLIC SERVIC...   \n",
      "41                               MINISTRY OF RAILWAYS   \n",
      "42             MINISTRY OF ROAD TRANSPORT AND HIGHWAY   \n",
      "43                      MINISTRY OF RURAL DEVELOPMENT   \n",
      "44                 MINISTRY OF SCIENCE AND TECHNOLOGY   \n",
      "45                      MINISTRY OF SKILL DEVELOPMENT   \n",
      "46         MINISTRY OF SOCIAL JUSTICE AND EMPOWERMENT   \n",
      "47                                 DEPARMENT OF SPACE   \n",
      "48                             MINISTRY OF STATISTICS   \n",
      "49                                  MINISTRY OF STEEL   \n",
      "50                               MINISTRY OF TEXTILES   \n",
      "51                                MINISTRY OF TOURISM   \n",
      "52                         MINISTRY OF TRIBAL AFFAIRS   \n",
      "53            MINISTRY OF WOMEN AND CHILD DEVELOPMENT   \n",
      "54               MINISTRY OF YOUTH AFFAIRS AND SPORTS   \n",
      "56                                        GRAND TOTAL   \n",
      "\n",
      "    Fund allotted(in ₹crores)  \n",
      "0                   131531.19  \n",
      "1                    18264.89  \n",
      "2                     2970.30  \n",
      "3                    80714.94  \n",
      "4                     3224.67  \n",
      "5                      534.88  \n",
      "6                    12768.25  \n",
      "7                    75265.22  \n",
      "8                   256948.40  \n",
      "9                      712.13  \n",
      "10                    2687.99  \n",
      "11                  478195.62  \n",
      "12                    2658.00  \n",
      "13                    1897.13  \n",
      "14                   93224.31  \n",
      "15                    9720.66  \n",
      "16                    2869.93  \n",
      "17                   18154.73  \n",
      "18                 1386273.30  \n",
      "19                    4322.82  \n",
      "20                    1308.66  \n",
      "21                   73931.77  \n",
      "22                    1017.08  \n",
      "23                  166546.94  \n",
      "24                   54581.00  \n",
      "25                    4071.23  \n",
      "26                   69053.02  \n",
      "27                   13306.50  \n",
      "28                    3229.94  \n",
      "29                   15699.65  \n",
      "30                    1466.82  \n",
      "31                    4810.77  \n",
      "32                    5753.00  \n",
      "33                     913.43  \n",
      "34                      65.07  \n",
      "35                    2097.24  \n",
      "36                   15943.78  \n",
      "37                    1062.77  \n",
      "38                    1702.35  \n",
      "39                   15322.00  \n",
      "40                    1687.57  \n",
      "41                  110054.64  \n",
      "42                  118101.00  \n",
      "43                  133689.50  \n",
      "44                   14794.03  \n",
      "45                    2785.23  \n",
      "46                   11689.39  \n",
      "47                   13949.09  \n",
      "48                    1409.13  \n",
      "49                      39.25  \n",
      "50                    3631.64  \n",
      "51                    2026.77  \n",
      "52                    7524.87  \n",
      "53                   24435.00  \n",
      "54                    2596.14  \n",
      "56                 3483235.63  \n"
     ]
    }
   ],
   "source": [
    "print(data)"
   ]
  },
  {
   "cell_type": "code",
   "execution_count": 9,
   "metadata": {},
   "outputs": [],
   "source": [
    "data = data.iloc[[0, 8, 11, 14, 18, 23, 41, 42, 43],:]\r\n"
   ]
  },
  {
   "cell_type": "code",
   "execution_count": 10,
   "metadata": {},
   "outputs": [
    {
     "data": {
      "text/plain": [
       "Index(['Department /Ministry', 'Fund allotted(in ₹crores)'], dtype='object')"
      ]
     },
     "execution_count": 10,
     "metadata": {},
     "output_type": "execute_result"
    }
   ],
   "source": [
    "data.columns"
   ]
  },
  {
   "cell_type": "code",
   "execution_count": 12,
   "metadata": {},
   "outputs": [
    {
     "data": {
      "text/html": [
       "<div>\n",
       "<style scoped>\n",
       "    .dataframe tbody tr th:only-of-type {\n",
       "        vertical-align: middle;\n",
       "    }\n",
       "\n",
       "    .dataframe tbody tr th {\n",
       "        vertical-align: top;\n",
       "    }\n",
       "\n",
       "    .dataframe thead th {\n",
       "        text-align: right;\n",
       "    }\n",
       "</style>\n",
       "<table border=\"1\" class=\"dataframe\">\n",
       "  <thead>\n",
       "    <tr style=\"text-align: right;\">\n",
       "      <th></th>\n",
       "      <th>Department /Ministry</th>\n",
       "      <th>Fund allotted(in ₹crores)</th>\n",
       "    </tr>\n",
       "  </thead>\n",
       "  <tbody>\n",
       "    <tr>\n",
       "      <th>0</th>\n",
       "      <td>MINISTRY OF AGRICULTURE</td>\n",
       "      <td>131531.19</td>\n",
       "    </tr>\n",
       "    <tr>\n",
       "      <th>1</th>\n",
       "      <td>MINISTRY OF CONSUMER AFFAIRS</td>\n",
       "      <td>256948.40</td>\n",
       "    </tr>\n",
       "    <tr>\n",
       "      <th>2</th>\n",
       "      <td>MINISTRY OF DEFENCE</td>\n",
       "      <td>478195.62</td>\n",
       "    </tr>\n",
       "    <tr>\n",
       "      <th>3</th>\n",
       "      <td>MINISTRY OF EDUCATION</td>\n",
       "      <td>93224.31</td>\n",
       "    </tr>\n",
       "    <tr>\n",
       "      <th>4</th>\n",
       "      <td>MINISTRY OF FINANCE</td>\n",
       "      <td>1386273.30</td>\n",
       "    </tr>\n",
       "    <tr>\n",
       "      <th>5</th>\n",
       "      <td>MINISTRY OF HOME AFFAIRS</td>\n",
       "      <td>166546.94</td>\n",
       "    </tr>\n",
       "    <tr>\n",
       "      <th>6</th>\n",
       "      <td>MINISTRY OF RAILWAYS</td>\n",
       "      <td>110054.64</td>\n",
       "    </tr>\n",
       "    <tr>\n",
       "      <th>7</th>\n",
       "      <td>MINISTRY OF ROAD TRANSPORT AND HIGHWAY</td>\n",
       "      <td>118101.00</td>\n",
       "    </tr>\n",
       "    <tr>\n",
       "      <th>8</th>\n",
       "      <td>MINISTRY OF RURAL DEVELOPMENT</td>\n",
       "      <td>133689.50</td>\n",
       "    </tr>\n",
       "    <tr>\n",
       "      <th>9</th>\n",
       "      <td>OTHERS</td>\n",
       "      <td>592971.08</td>\n",
       "    </tr>\n",
       "  </tbody>\n",
       "</table>\n",
       "</div>"
      ],
      "text/plain": [
       "                     Department /Ministry  Fund allotted(in ₹crores)\n",
       "0                 MINISTRY OF AGRICULTURE                  131531.19\n",
       "1            MINISTRY OF CONSUMER AFFAIRS                  256948.40\n",
       "2                     MINISTRY OF DEFENCE                  478195.62\n",
       "3                   MINISTRY OF EDUCATION                   93224.31\n",
       "4                     MINISTRY OF FINANCE                 1386273.30\n",
       "5                MINISTRY OF HOME AFFAIRS                  166546.94\n",
       "6                    MINISTRY OF RAILWAYS                  110054.64\n",
       "7  MINISTRY OF ROAD TRANSPORT AND HIGHWAY                  118101.00\n",
       "8           MINISTRY OF RURAL DEVELOPMENT                  133689.50\n",
       "9                                  OTHERS                  592971.08"
      ]
     },
     "execution_count": 12,
     "metadata": {},
     "output_type": "execute_result"
    }
   ],
   "source": [
    "row = {\"Department /Ministry\": \"OTHERS\",\"Fund allotted(in ₹crores)\": 592971.0800000001}\r\n",
    "\r\n",
    "data = data.append(row,ignore_index=True)\r\n",
    "\r\n",
    "data\r\n"
   ]
  },
  {
   "cell_type": "code",
   "execution_count": 16,
   "metadata": {},
   "outputs": [
    {
     "data": {
      "image/png": "[encoded data removed]",
      "text/plain": [
       "<Figure size 432x288 with 1 Axes>"
      ]
     },
     "metadata": {
      "needs_background": "light"
     },
     "output_type": "display_data"
    }
   ],
   "source": [
    "\r\n",
    "sns.barplot(x=\"Department /Ministry\", y=\"Fund allotted(in ₹crores)\",data=data)\r\n",
    "plt.xticks(rotation=90)\r\n",
    "plt.show()\r\n"
   ]
  },
  {
   "cell_type": "code",
   "execution_count": 27,
   "metadata": {},
   "outputs": [
    {
     "data": {
      "image/png": "[encoded data removed]",
      "text/plain": [
       "<Figure size 504x504 with 1 Axes>"
      ]
     },
     "metadata": {},
     "output_type": "display_data"
    }
   ],
   "source": [
    "labels = data[\"Department /Ministry\"]\r\n",
    "\r\n",
    "plt.figure(figsize=(7,7))\r\n",
    "plt.pie(x=data[\"Fund allotted(in ₹crores)\"], labels=labels, autopct=\"%1.1f%%\",startangle=90)\r\n",
    "circle = plt.Circle(xy=(0,0),radius=0.5,color=\"white\")\r\n",
    "fig = plt.gcf()\r\n",
    "fig.gca().add_artist(circle)\r\n",
    "plt.show()\r\n"
   ]
  },
  {
   "cell_type": "code",
   "execution_count": null,
   "metadata": {},
   "outputs": [],
   "source": []
  }
 ],
 "metadata": {
  "interpreter": {
   "hash": "4bf5ffbeb8bb60b501bd370f4f30f4e42d71afa6b8bb033ca8128ca692dcec38"
  },
  "kernelspec": {
   "display_name": "Python 3.8.1 64-bit",
   "name": "python3"
  },
  "language_info": {
   "codemirror_mode": {
    "name": "ipython",
    "version": 3
   },
   "file_extension": ".py",
   "mimetype": "text/x-python",
   "name": "python",
   "nbconvert_exporter": "python",
   "pygments_lexer": "ipython3",
   "version": "3.8.1"
  },
  "orig_nbformat": 4
 },
 "nbformat": 4,
 "nbformat_minor": 2
}